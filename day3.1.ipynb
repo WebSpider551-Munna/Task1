{
 "cells": [
  {
   "cell_type": "markdown",
   "id": "c018f56d-e965-4c27-abc9-826f5eb7f626",
   "metadata": {},
   "source": [
    "Home Work III Day(3.1)\n",
    "Relational and Assignment Operators"
   ]
  },
  {
   "cell_type": "code",
   "execution_count": 1,
   "id": "5fd49c06-086b-411b-8dc8-d4aff7c2b9d9",
   "metadata": {},
   "outputs": [
    {
     "name": "stdout",
     "output_type": "stream",
     "text": [
      "I drank 8 glasses of water today.\n"
     ]
    }
   ],
   "source": [
    "# 1. Type here. Assign a number to the variable: glass_of_water \n",
    "# glass_of_water= \n",
    "# print(\"I drank\", glass_of_water, \"glasses of water today.\") \n",
    "\n",
    "glass_of_water= 8\n",
    "print(\"I drank\", glass_of_water, \"glasses of water today.\")"
   ]
  },
  {
   "cell_type": "code",
   "execution_count": 3,
   "id": "f9e34959-297b-42e4-ab12-25b9bfbcb642",
   "metadata": {},
   "outputs": [
    {
     "name": "stdout",
     "output_type": "stream",
     "text": [
      "4\n"
     ]
    }
   ],
   "source": [
    "# 2. Fill the print function so it prints glass_of_water  \n",
    "# glass_of_water=3  \n",
    "# glass_of_water=glass_of_water + 1  \n",
    "# print()\n",
    "\n",
    "glass_of_water=3  \n",
    "glass_of_water=glass_of_water + 1  \n",
    "print(glass_of_water)"
   ]
  },
  {
   "cell_type": "code",
   "execution_count": 4,
   "id": "ba8e31f6-fd2a-4311-bd6d-20fdc6d3d4fe",
   "metadata": {},
   "outputs": [
    {
     "name": "stdout",
     "output_type": "stream",
     "text": [
      "1\n"
     ]
    }
   ],
   "source": [
    "# 3. Assign an integer to the variable, then print it.  \n",
    "# men_stepped_on_the_moon=  \n",
    "# print()\n",
    "\n",
    "men_stepped_on_the_moon= 1\n",
    "print(men_stepped_on_the_moon) "
   ]
  },
  {
   "cell_type": "markdown",
   "id": "e7f37042-e0b9-4b73-b2c7-51c2999f85cb",
   "metadata": {},
   "source": [
    "#### 4. Type a couple of words or a short sentence for your variable, then print it.  \n",
    " my_reason_for_coding=  \n",
    " print() \n"
   ]
  },
  {
   "cell_type": "code",
   "execution_count": 5,
   "id": "ab2ed02c-cb81-4485-840e-9642b905a2ce",
   "metadata": {},
   "outputs": [
    {
     "name": "stdout",
     "output_type": "stream",
     "text": [
      "\n"
     ]
    }
   ],
   "source": [
    "\n",
    "my_reason_for_coding =  'To Learn'\n",
    "print() "
   ]
  },
  {
   "cell_type": "markdown",
   "id": "a82c6ed9-ca7b-4fce-a2f1-44438eff13de",
   "metadata": {},
   "source": [
    "#### 5. Assign a float with 2 decimals to the variable below. If you don't wan't to \n",
    "search the value you can check out Hint 1.  \n",
    "global_mean_sea_level_2018=21    \n",
    "global_mean_sea_level_2018=    \n",
    "print(global_mean_sea_level_2018)  "
   ]
  },
  {
   "cell_type": "code",
   "execution_count": 8,
   "id": "ed60ea76-fb34-4b8a-9277-884546abd8c8",
   "metadata": {},
   "outputs": [
    {
     "name": "stdout",
     "output_type": "stream",
     "text": [
      "21.00\n"
     ]
    }
   ],
   "source": [
    "global_mean_sea_level_2018=21  \n",
    "global_mean_sea_level_2018=21.00  \n",
    "print(f'{global_mean_sea_level_2018:.2f}')"
   ]
  },
  {
   "cell_type": "markdown",
   "id": "c07a82ed-87f3-4a5c-9fbb-3a3a7ae615e5",
   "metadata": {},
   "source": [
    "#### 6. Assign True or False to the variable below then print it.  \n",
    "staying_alive=  \n",
    "print(staying_alive)"
   ]
  },
  {
   "cell_type": "code",
   "execution_count": 9,
   "id": "47f100db-0371-4397-9d75-ad91981d22b3",
   "metadata": {},
   "outputs": [
    {
     "name": "stdout",
     "output_type": "stream",
     "text": [
      "True\n"
     ]
    }
   ],
   "source": [
    "staying_alive = True\n",
    "print(staying_alive)"
   ]
  },
  {
   "cell_type": "markdown",
   "id": "d2555ce7-75bf-4aa5-9888-5f775d02143d",
   "metadata": {},
   "source": [
    "#### 7. Type a couple of different values inside the print function. Make sure they are separated by commas.  \n",
    "print(\"\") "
   ]
  },
  {
   "cell_type": "code",
   "execution_count": 10,
   "id": "7d610d10-1ee6-4de1-a799-6dc7a4c63db7",
   "metadata": {},
   "outputs": [
    {
     "name": "stdout",
     "output_type": "stream",
     "text": [
      "Hello 42 3.14 [1, 2, 3] {'name': 'Munna'}\n"
     ]
    }
   ],
   "source": [
    "print(\"Hello\", 42, 3.14, [1, 2, 3], {\"name\": \"Munna\"})"
   ]
  },
  {
   "cell_type": "markdown",
   "id": "85d99574-c02a-4885-a2be-8fed15e38036",
   "metadata": {},
   "source": [
    "#### 8. You can assign \"Hello World!\" to the variable.  \n",
    "my_text=\"\" \n",
    "print(my_text)"
   ]
  },
  {
   "cell_type": "code",
   "execution_count": 11,
   "id": "bf5abc29-ba61-40b8-9e26-0e55fbbbbcff",
   "metadata": {},
   "outputs": [
    {
     "name": "stdout",
     "output_type": "stream",
     "text": [
      "Hello World!\n"
     ]
    }
   ],
   "source": [
    "my_text = \"Hello World!\"\n",
    "print(my_text)"
   ]
  },
  {
   "cell_type": "markdown",
   "id": "29a8bd12-8d98-4bd0-a2b3-abfdc6813602",
   "metadata": {},
   "source": [
    "#### 9. Replace \"type here\" with \"Hello World!\"  \n",
    "print(\"type here\")"
   ]
  },
  {
   "cell_type": "code",
   "execution_count": 13,
   "id": "b245115e-0e02-4dc7-9ce6-c807ff22fc9b",
   "metadata": {},
   "outputs": [
    {
     "name": "stdout",
     "output_type": "stream",
     "text": [
      "Hello World!\n"
     ]
    }
   ],
   "source": [
    "print(\"Hello World!\")"
   ]
  },
  {
   "cell_type": "markdown",
   "id": "2eadef3f-049f-451a-b706-90affbf0a64c",
   "metadata": {},
   "source": [
    "#### 10. In Python, a variable must be declared before it is assigned a value: \n",
    "A. True   \n",
    "B. False   "
   ]
  },
  {
   "cell_type": "markdown",
   "id": "7995bdf2-a21e-456c-a475-b9af25040a5b",
   "metadata": {},
   "source": [
    "B.False"
   ]
  },
  {
   "cell_type": "markdown",
   "id": "ef55eaed-3d6e-46ca-95ff-414559adbfeb",
   "metadata": {},
   "source": [
    "#### 11. Which of the following statements assigns the value 100 to the variable x in Python: \n",
    "A. x := 100  \n",
    "B. let x = 100   \n",
    "C. x << 100   \n",
    "D. x = 100   \n",
    "E. x ← 100  "
   ]
  },
  {
   "cell_type": "markdown",
   "id": "0a780670-4596-482b-a5f8-6213f321c1ce",
   "metadata": {},
   "source": [
    "Ans: D. x = 100 "
   ]
  },
  {
   "cell_type": "markdown",
   "id": "ca5e29c5-e420-4ac1-a7b9-4acb343736b0",
   "metadata": {},
   "source": [
    "#### 12.  Which of the following are valid Python variable names: \n",
    "A. Age  \n",
    "B. home_address  \n",
    "C. ver1.3  \n",
    "D. return  \n",
    "E. 4square  \n",
    "F. route66  \n"
   ]
  },
  {
   "cell_type": "markdown",
   "id": "5109d5dc-5695-4eb4-91dc-492de40f9db8",
   "metadata": {},
   "source": [
    "Ans: A,B,F"
   ]
  },
  {
   "cell_type": "markdown",
   "id": "88a688f1-07d2-4581-a275-42aea18f65c9",
   "metadata": {},
   "source": [
    "#### 13. You are reading Python code, and these statements appear scattered in different locations throughout the code: \n",
    "employeenumber = 4398  \n",
    ".  \n",
    ".  \n",
    "EmployeeNumber = 4398  \n",
    ".  \n",
    ".  \n",
    "employeeNumber = 4398  \n",
    "\n",
    "A. These statements refer to different variables.  \n",
    "B. These statements refer to the same variable. "
   ]
  },
  {
   "cell_type": "markdown",
   "id": "a3e365dd-2fd7-448f-90fa-acb9e75a2606",
   "metadata": {},
   "source": [
    "Ans: B These statements refer to the same variable."
   ]
  },
  {
   "cell_type": "markdown",
   "id": "5a00bf49-512a-4237-aa89-b1d8fbfba31d",
   "metadata": {},
   "source": [
    "#### 14.  Which of the following would give a syntax error? \n",
    "A. x, y, z = 10, 20, 30  \n",
    "B. x, y, z = 10, ‘Hello’, True  \n",
    "C. x = 10, y =’Hello’, z = True  \n",
    "D. None of the above "
   ]
  },
  {
   "cell_type": "markdown",
   "id": "f7ba423f-bc8e-4b2a-ab29-a64301930ed6",
   "metadata": {},
   "source": [
    "Ans: C. x = 10, y =’Hello’, z = True "
   ]
  },
  {
   "cell_type": "markdown",
   "id": "a320d602-68a5-459b-bf8f-0ae0df72434f",
   "metadata": {},
   "source": [
    "#### 15. What is the value of the following arithmetic expression 5*2**10?"
   ]
  },
  {
   "cell_type": "markdown",
   "id": "f34055bd-1536-4b0e-a05d-77f8ac4b558d",
   "metadata": {},
   "source": [
    "Ans: 5120"
   ]
  },
  {
   "cell_type": "code",
   "execution_count": null,
   "id": "d0ea5f64-746e-4d9d-b770-b3561cba945f",
   "metadata": {},
   "outputs": [],
   "source": []
  }
 ],
 "metadata": {
  "kernelspec": {
   "display_name": "Python 3 (ipykernel)",
   "language": "python",
   "name": "python3"
  },
  "language_info": {
   "codemirror_mode": {
    "name": "ipython",
    "version": 3
   },
   "file_extension": ".py",
   "mimetype": "text/x-python",
   "name": "python",
   "nbconvert_exporter": "python",
   "pygments_lexer": "ipython3",
   "version": "3.13.3"
  }
 },
 "nbformat": 4,
 "nbformat_minor": 5
}
