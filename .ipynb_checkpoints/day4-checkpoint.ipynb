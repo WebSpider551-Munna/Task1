{
 "cells": [
  {
   "cell_type": "markdown",
   "id": "0ac4d67d-84e5-4d24-a3eb-9c12af2d987f",
   "metadata": {},
   "source": [
    "### Home Work II (Day 4) \n",
    "#### Variables, Data Types, Logical, Membership and Identity Operators "
   ]
  },
  {
   "cell_type": "markdown",
   "id": "fbcf052e-e541-4cd3-9a0f-cf5c3dc8a792",
   "metadata": {},
   "source": [
    "#### 1. Python Swapping means interchanging the values of two variables.  \n",
    "#### Eg: - if x is 10 and y is 5 then after swapping x will be 5 and y will be 10."
   ]
  },
  {
   "cell_type": "code",
   "execution_count": 2,
   "id": "4fc88b1b-21aa-4257-9b32-3b110b6d536d",
   "metadata": {},
   "outputs": [
    {
     "name": "stdout",
     "output_type": "stream",
     "text": [
      "Before Swapping:\n",
      "x = 10\n",
      "y = 5\n",
      "After Swapping:\n",
      "x = 5\n",
      "y = 10\n"
     ]
    }
   ],
   "source": [
    "x,y = 10,5\n",
    "print(f'Before Swapping:\\nx = {x}\\ny = {y}')\n",
    "x,y = y,x\n",
    "print(f'After Swapping:\\nx = {x}\\ny = {y}')"
   ]
  },
  {
   "cell_type": "markdown",
   "id": "41e63da2-7df4-48d9-be47-58e33afdac1f",
   "metadata": {},
   "source": [
    "#### 2. Numbers consist of all the numeric values. Numbers in Python are classified into the following data types.   \n",
    "####  ❖ int - Integers don’t have decimal and can have any length as long as the required memory is available.  \n",
    "####     For example, 3, 855, etc.   \n",
    "####  ❖ float - Floating point numbers are the ones having decimal.  \n",
    "####     For example, 2.564728.    \n",
    "####  ❖ complex - Complex numbers, as in Mathematics, have the form a + bj,    \n",
    "####    where a is the real part and b is the imaginary part. For example, 2 + 3j, 6j.    "
   ]
  },
  {
   "cell_type": "markdown",
   "id": "03b588aa-808e-4beb-a07b-c56843d7b626",
   "metadata": {},
   "source": [
    "#### 3. What is the output of the following code? \n",
    "#### x = 6  \n",
    "#### y = 2 \n",
    "#### print(x ** y)  \n",
    "#### print(x // y)"
   ]
  },
  {
   "cell_type": "code",
   "execution_count": 3,
   "id": "f76eee03-b6c1-4e29-98be-9c1eaac66a4a",
   "metadata": {},
   "outputs": [
    {
     "name": "stdout",
     "output_type": "stream",
     "text": [
      "36\n",
      "3\n"
     ]
    }
   ],
   "source": [
    "x = 6  \n",
    "y = 2 \n",
    "print(x ** y)  \n",
    "print(x // y)"
   ]
  },
  {
   "cell_type": "markdown",
   "id": "82de09bb-5986-4f41-a212-75d9ac54df6b",
   "metadata": {},
   "source": [
    "#### 4. 4 is 100 in binary and 11 is 1011. What is the output of the following bitwise operators? \n",
    "#### a = 4  \n",
    "#### b = 11  \n",
    "#### print(a | b)  \n",
    "#### print(a >> 2) "
   ]
  },
  {
   "cell_type": "code",
   "execution_count": 6,
   "id": "7134a18a-03d0-4ff1-aa15-cf65e0c57079",
   "metadata": {},
   "outputs": [
    {
     "name": "stdout",
     "output_type": "stream",
     "text": [
      "15\n",
      "1\n"
     ]
    }
   ],
   "source": [
    "a = 4  \n",
    "b = 11  \n",
    "print(a | b)\n",
    "print(a >> 2)"
   ]
  },
  {
   "cell_type": "markdown",
   "id": "d6af65ad-9f4f-417e-b812-a6beaf12d13a",
   "metadata": {},
   "source": [
    "#### 5. What is the output of the following assignment operator? \n",
    "#### y = 10  \n",
    "#### x = y += 2  \n",
    "#### print(x)"
   ]
  },
  {
   "cell_type": "code",
   "execution_count": 9,
   "id": "bf931b7d-0454-47b4-9c3c-281fda50c0f1",
   "metadata": {},
   "outputs": [
    {
     "ename": "SyntaxError",
     "evalue": "invalid syntax (714143097.py, line 2)",
     "output_type": "error",
     "traceback": [
      "  \u001b[36mCell\u001b[39m\u001b[36m \u001b[39m\u001b[32mIn[9]\u001b[39m\u001b[32m, line 2\u001b[39m\n\u001b[31m    \u001b[39m\u001b[31mx = y + = 2\u001b[39m\n            ^\n\u001b[31mSyntaxError\u001b[39m\u001b[31m:\u001b[39m invalid syntax\n"
     ]
    }
   ],
   "source": [
    "y = 10  \n",
    "x = y + = 2  \n",
    "print(x) \n",
    "# In Python, you cannot use an assignment expression (y += 2)   \n",
    "# directly inside another assignment like x = y += 2. This is a syntax error."
   ]
  },
  {
   "cell_type": "markdown",
   "id": "9b729687-178b-420c-a55a-6641d80d96c2",
   "metadata": {},
   "source": [
    "#### 6. What is the output of print(2 * 3 ** 3 * 4)?"
   ]
  },
  {
   "cell_type": "code",
   "execution_count": 10,
   "id": "ac8a6262-dae9-4bc9-adf0-8f882275985a",
   "metadata": {},
   "outputs": [
    {
     "name": "stdout",
     "output_type": "stream",
     "text": [
      "216\n"
     ]
    }
   ],
   "source": [
    "print(2*3**3*4)"
   ]
  },
  {
   "cell_type": "markdown",
   "id": "cfee737c-58d5-4022-847d-cb71b587edf2",
   "metadata": {},
   "source": [
    "#### 7. What is the output of print(10 - 4 * 2) "
   ]
  },
  {
   "cell_type": "code",
   "execution_count": 11,
   "id": "2e503525-3184-4c7f-897b-5c891aae14e0",
   "metadata": {},
   "outputs": [
    {
     "name": "stdout",
     "output_type": "stream",
     "text": [
      "2\n"
     ]
    }
   ],
   "source": [
    "print(10 - 4 * 2)"
   ]
  },
  {
   "cell_type": "markdown",
   "id": "419d1a3c-e284-4fea-98f6-361e16c85a37",
   "metadata": {},
   "source": [
    "#### 8. What is the output of the expression print(-18 // 4) "
   ]
  },
  {
   "cell_type": "code",
   "execution_count": 12,
   "id": "7313d27d-646c-435f-b632-bf6f57b88d16",
   "metadata": {},
   "outputs": [
    {
     "name": "stdout",
     "output_type": "stream",
     "text": [
      "-5\n"
     ]
    }
   ],
   "source": [
    "print(-18 // 4)"
   ]
  },
  {
   "cell_type": "markdown",
   "id": "2df411bb-67f4-4f6e-b9d8-f5da2f5586ed",
   "metadata": {},
   "source": [
    "#### 9. What is the output of the following Python code? \n",
    "#### x = 10  \n",
    "#### y = 50  \n",
    "#### if x ** 2 > 100 and y < 100:  \n",
    "#### print(x, y)"
   ]
  },
  {
   "cell_type": "code",
   "execution_count": 14,
   "id": "7ffc6474-382c-49af-913f-f969956ad72d",
   "metadata": {},
   "outputs": [
    {
     "name": "stdout",
     "output_type": "stream",
     "text": [
      "None\n"
     ]
    }
   ],
   "source": [
    "x = 10  \n",
    "y = 50  \n",
    "if x ** 2 > 100 and y < 100:  \n",
    "    print(x, y)\n",
    "else:\n",
    "    print('None')"
   ]
  },
  {
   "cell_type": "markdown",
   "id": "70d036df-be98-4de9-9f69-65518e0935aa",
   "metadata": {},
   "source": [
    "#### 10.  What is the output of the following code? \n",
    "#### x = 100  \n",
    "#### y = 50  \n",
    "#### print(x and y)"
   ]
  },
  {
   "cell_type": "code",
   "execution_count": 15,
   "id": "55ba9c7e-5e0a-4efe-af0d-c8e6b0d01da6",
   "metadata": {},
   "outputs": [
    {
     "name": "stdout",
     "output_type": "stream",
     "text": [
      "50\n"
     ]
    }
   ],
   "source": [
    "x = 100\n",
    "y = 50\n",
    "print(x and y)"
   ]
  },
  {
   "cell_type": "markdown",
   "id": "a9dcfe2f-6324-4817-a219-81f1fc1312c1",
   "metadata": {},
   "source": [
    "#### 11.  In Python 3, what is the output of type(range(5)). (What data type it will return)."
   ]
  },
  {
   "cell_type": "code",
   "execution_count": 19,
   "id": "5ae10eba-94e1-4565-9b58-bac7012bc149",
   "metadata": {},
   "outputs": [
    {
     "name": "stdout",
     "output_type": "stream",
     "text": [
      "<class 'range'>\n"
     ]
    }
   ],
   "source": [
    "print(type(range(5)))"
   ]
  },
  {
   "cell_type": "markdown",
   "id": "4f052760-889a-4bb8-a050-847cb35f6822",
   "metadata": {},
   "source": [
    "- In Python 2, calling range(5) produced a list of numbers [0, 1, 2, 3, 4]. So type(range(5))     would have been <class 'list'>.  \n",
    "- In Python 3, range(5) returns a range object, not a list. It’s a special iterable that         represents the sequence of numbers from 0 to 4, generated on demand.\n",
    "- Therefore, type(range(5)) produces: <class 'range'>  "
   ]
  },
  {
   "cell_type": "markdown",
   "id": "b6174f6a-25fb-45d9-96db-3cbe3ff39081",
   "metadata": {},
   "source": [
    "#### 12.  What is the data type of print(type(10))"
   ]
  },
  {
   "cell_type": "code",
   "execution_count": 20,
   "id": "243662df-2305-48b8-8e30-0f2a03cd4748",
   "metadata": {},
   "outputs": [
    {
     "name": "stdout",
     "output_type": "stream",
     "text": [
      "<class 'int'>\n"
     ]
    }
   ],
   "source": [
    "print(type(10))"
   ]
  }
 ],
 "metadata": {
  "kernelspec": {
   "display_name": "Python 3 (ipykernel)",
   "language": "python",
   "name": "python3"
  },
  "language_info": {
   "codemirror_mode": {
    "name": "ipython",
    "version": 3
   },
   "file_extension": ".py",
   "mimetype": "text/x-python",
   "name": "python",
   "nbconvert_exporter": "python",
   "pygments_lexer": "ipython3",
   "version": "3.13.3"
  }
 },
 "nbformat": 4,
 "nbformat_minor": 5
}
