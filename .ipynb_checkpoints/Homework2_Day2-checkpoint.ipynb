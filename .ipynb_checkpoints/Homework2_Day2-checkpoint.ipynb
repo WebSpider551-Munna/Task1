{
 "cells": [
  {
   "cell_type": "markdown",
   "id": "457ba505",
   "metadata": {},
   "source": [
    "Home Work II (Day 2)\n",
    "Arithmetic Operators and Variables"
   ]
  },
  {
   "cell_type": "code",
   "execution_count": 1,
   "id": "5360da76",
   "metadata": {},
   "outputs": [
    {
     "name": "stdout",
     "output_type": "stream",
     "text": [
      "Multiplication: 50\n",
      "Sum: 15\n"
     ]
    }
   ],
   "source": [
    "# 1. Calculate the multiplication and sum of two numbers?\n",
    "a = 5\n",
    "b = 10\n",
    "multiplication = a * b\n",
    "sum = a + b\n",
    "print(\"Multiplication:\", multiplication)\n",
    "print(\"Sum:\", sum)"
   ]
  },
  {
   "cell_type": "code",
   "execution_count": 1,
   "id": "baadf232",
   "metadata": {},
   "outputs": [
    {
     "name": "stdout",
     "output_type": "stream",
     "text": [
      "Quality Thought\n"
     ]
    }
   ],
   "source": [
    "#2.Create a string made of the first, middle and last character?\n",
    "#Expected Output: Quality Thought\n",
    "text = 'quality thought'\n",
    "result = text.title()\n",
    "print(result)\n"
   ]
  },
  {
   "cell_type": "code",
   "execution_count": 4,
   "id": "8997b0d4-9cf4-4b96-a747-a5362d0738d3",
   "metadata": {},
   "outputs": [
    {
     "name": "stdout",
     "output_type": "stream",
     "text": [
      "50\n"
     ]
    }
   ],
   "source": [
    "#3. Use Python code to print out the following:\n",
    "#   One half of 100 is 50. Use a variable to print out the number 50\n",
    "num = 100\n",
    "One_Half = num//2\n",
    "print(One_Half)"
   ]
  },
  {
   "cell_type": "code",
   "execution_count": 10,
   "id": "c720b50e-8597-4c35-89c4-8af1c78790d7",
   "metadata": {},
   "outputs": [
    {
     "name": "stdout",
     "output_type": "stream",
     "text": [
      "14\n"
     ]
    }
   ],
   "source": [
    "# 4. Type these numbers after the equals sign for your myTotal variable:\n",
    "# myTotal = 4 + 2 * 8 - 6  \n",
    "# Can you see why the answer you get when you run your code is 14?\n",
    "\n",
    "myTotal = 4 + 2 * 8 - 6 \n",
    "print(myTotal)\n",
    "\n",
    "# Explanation:\n",
    "# PEMDAS = Parentheses, Exponents, Multiplication/Division, Addition/Subtraction\n",
    "# Step1: 2 * 8 = 16 (Multiplication first)\n",
    "# Now: 4 + 16 - 6\n",
    "# Step2: 4 + 16 = 20 (Addition next)\n",
    "# Step3: 20 - 6 = 14 (Subtraction last)\n"
   ]
  },
  {
   "cell_type": "code",
   "execution_count": 11,
   "id": "0c988794-260b-47fa-a0c6-2d017b0d9284",
   "metadata": {},
   "outputs": [
    {
     "name": "stdout",
     "output_type": "stream",
     "text": [
      "1\n"
     ]
    }
   ],
   "source": [
    "# 5. If you are dividing, you can use two forward slashes to do floor division:  \n",
    "# myTotal = 7 // 5  \n",
    "# This will get you the answer of 1 rather than the 1.4 we had before.\n",
    "\n",
    "myTotal = 7//5\n",
    "print(myTotal)\n",
    "\n",
    "# Explanation:\n",
    "# / is true division (always gives decimal/float)\n",
    "# 7 / 5   # 1.4\n",
    "# // is floor division (rounds down to the nearest whole number)\n",
    "# 7 // 5  # 1"
   ]
  },
  {
   "cell_type": "code",
   "execution_count": 14,
   "id": "58dbee98-9827-4692-8bc5-732e6362b8a6",
   "metadata": {},
   "outputs": [
    {
     "name": "stdout",
     "output_type": "stream",
     "text": [
      "100\n"
     ]
    }
   ],
   "source": [
    "# 6. You can tell Python what you mean with round brackets, parentheses.\n",
    "# Add two round brackets to your code:\n",
    "# myTotal = (8 + 2) * 10 \n",
    "\n",
    "myTotal = (8 + 2) * 10\n",
    "print(myTotal)\n",
    "\n",
    "# Explanation:\n",
    "# Parentheses () let you control the order of operations\n",
    "# Inside parentheses first: (8 + 2) = 10\n",
    "# Then multiply: 10 * 10 = 100"
   ]
  },
  {
   "cell_type": "code",
   "execution_count": 13,
   "id": "27dbb73b-bea5-44c2-b943-06a11aeb698a",
   "metadata": {},
   "outputs": [
    {
     "name": "stdout",
     "output_type": "stream",
     "text": [
      "28\n"
     ]
    }
   ],
   "source": [
    "# 7. For example, change your myTotal line to this:  \n",
    "# myTotal = 8 + 2 * 10\n",
    "\n",
    "myTotal = 8 + 2 * 10\n",
    "print(myTotal)\n",
    "\n",
    "# Without Parentheses:\n",
    "# first 2 * 10 = 20 (PEMDAS).\n",
    "# Then 8 + 20 = 28."
   ]
  },
  {
   "cell_type": "code",
   "execution_count": 15,
   "id": "fe4eb999-3856-4125-aa89-17e536e12023",
   "metadata": {},
   "outputs": [
    {
     "name": "stdout",
     "output_type": "stream",
     "text": [
      "13.0\n",
      "100\n"
     ]
    }
   ],
   "source": [
    "# 8. Likewise, if we had this: \n",
    "# myTotal = 8 + 10 / 2 \n",
    "# But if we add round brackets:  \n",
    "# myTotal = (8 + 10) / 2\n",
    "\n",
    "myTotal = 8 + 10 / 2\n",
    "print(myTotal)\n",
    "\n",
    "myTotal = (8 + 2) * 10\n",
    "print(myTotal)\n"
   ]
  },
  {
   "cell_type": "code",
   "execution_count": 17,
   "id": "3294d072-d231-4036-afcb-4fa6c7eefe8b",
   "metadata": {},
   "outputs": [
    {
     "name": "stdout",
     "output_type": "stream",
     "text": [
      "20\n",
      "40\n",
      "184\n",
      "30\n"
     ]
    }
   ],
   "source": [
    "# 9. So, Python sees that there is 16 stored in the numberOne variable and 4 \n",
    "# stored in the numberTwo variable. It adds these up and stores the result in \n",
    "# the answer variable.  \n",
    "# You can also mix the two, variables and hard-code numbers:  \n",
    "# answer = numberOne + numberTwo + 20  \n",
    "# answer = 10 * numberOne + (numberTwo + 20)  \n",
    "# answer = numberOne + 20 + numberTwo – 10 \n",
    "\n",
    "numberOne = 16\n",
    "numberTwo = 4\n",
    "answer1 = numberOne + numberTwo\n",
    "answer2 = numberOne + numberTwo + 20  \n",
    "answer3 = 10 * numberOne + (numberTwo + 20)  \n",
    "answer4 = numberOne + 20 + numberTwo - 10 \n",
    "\n",
    "print(answer1)\n",
    "print(answer2)\n",
    "print(answer3)\n",
    "print(answer4)"
   ]
  },
  {
   "cell_type": "code",
   "execution_count": 26,
   "id": "9dcfc438-14fa-499d-b7a2-fe7627623c63",
   "metadata": {},
   "outputs": [
    {
     "name": "stdout",
     "output_type": "stream",
     "text": [
      "Full Name is:  Quality Thought\n"
     ]
    }
   ],
   "source": [
    "# 10. Creating a program of strings with concatenation: \n",
    "# FirstName = “Quality” \n",
    "# SecondName = “Thought” \n",
    "# Expected Output:  \n",
    "# Full Name is: Quality Thought\n",
    "\n",
    "FirstName = \"Quality\"\n",
    "SecondName = \"Thought\"\n",
    "print('Full Name is: ',FirstName+ ' ' +SecondName)"
   ]
  }
 ],
 "metadata": {
  "kernelspec": {
   "display_name": "Python 3 (ipykernel)",
   "language": "python",
   "name": "python3"
  },
  "language_info": {
   "codemirror_mode": {
    "name": "ipython",
    "version": 3
   },
   "file_extension": ".py",
   "mimetype": "text/x-python",
   "name": "python",
   "nbconvert_exporter": "python",
   "pygments_lexer": "ipython3",
   "version": "3.13.3"
  }
 },
 "nbformat": 4,
 "nbformat_minor": 5
}
