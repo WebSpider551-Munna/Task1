{
 "cells": [
  {
   "cell_type": "markdown",
   "id": "943349dc",
   "metadata": {},
   "source": [
    "1: Create Write a program to get the following output.\n",
    "Output:\n",
    "Hey there,\n",
    "I am full stack developer!\n"
   ]
  },
  {
   "cell_type": "code",
   "execution_count": 1,
   "id": "306783d9",
   "metadata": {},
   "outputs": [
    {
     "name": "stdout",
     "output_type": "stream",
     "text": [
      "Hey Here, I am Full Stack Developer!\n"
     ]
    }
   ],
   "source": [
    "print(\"Hey Here, I am Full Stack Developer!\")"
   ]
  },
  {
   "cell_type": "markdown",
   "id": "0143ffe6",
   "metadata": {},
   "source": [
    "2. Define Python variable, with your own Example?"
   ]
  },
  {
   "cell_type": "code",
   "execution_count": 4,
   "id": "5df03f05",
   "metadata": {},
   "outputs": [
    {
     "name": "stdout",
     "output_type": "stream",
     "text": [
      "85\n",
      "Munna\n",
      "True\n",
      "5.9\n",
      "123, ABC Street,\n",
      "Cityville,\n",
      "Countryland\n",
      "\n"
     ]
    }
   ],
   "source": [
    "#defining variables:\n",
    "Marks = 85\n",
    "Name = \"Munna\"\n",
    "Is_Passed = True\n",
    "Height = 5.9\n",
    "address = '''123, ABC Street,\n",
    "Cityville,\n",
    "Countryland\n",
    "'''\n",
    "print(Marks)\n",
    "print(Name)\n",
    "print(Is_Passed)\n",
    "print(Height)\n",
    "print(address)"
   ]
  },
  {
   "cell_type": "markdown",
   "id": "b8cbd550",
   "metadata": {},
   "source": [
    "3. Write a Python program to print 'Hello' on screen and then print your name \n",
    "on a separate line. "
   ]
  },
  {
   "cell_type": "code",
   "execution_count": 5,
   "id": "a1122053",
   "metadata": {},
   "outputs": [
    {
     "name": "stdout",
     "output_type": "stream",
     "text": [
      "Hello,\n",
      "Munna\n"
     ]
    }
   ],
   "source": [
    "print('Hello,\\nMunna')"
   ]
  },
  {
   "cell_type": "markdown",
   "id": "6aca6e67",
   "metadata": {},
   "source": [
    "4. There is also a print() method, which is similar to println().  \n",
    "The only difference is that it does not insert a new line at the end of the output: \n",
    "\n",
    "Create any your won example that have to use print() method and println()."
   ]
  },
  {
   "cell_type": "code",
   "execution_count": 9,
   "id": "e2f2d795",
   "metadata": {},
   "outputs": [
    {
     "name": "stdout",
     "output_type": "stream",
     "text": [
      "After this line new line is included.\n",
      "This is in ONE line"
     ]
    }
   ],
   "source": [
    "print(\"After this line new line is included.\")\n",
    "print(\"This \", end='')\n",
    "print(\"is \", end='')\n",
    "print(\"in \", end='')\n",
    "print(\"ONE \", end='')\n",
    "print(\"line.\", end='')\n"
   ]
  },
  {
   "cell_type": "markdown",
   "id": "84d69b2e",
   "metadata": {},
   "source": [
    "5. Write a program to get the following output, by using the \\t.\n",
    "\n",
    "Output: \n",
    "Raja Shekhar\n",
    "Pavan Surya "
   ]
  },
  {
   "cell_type": "code",
   "execution_count": 10,
   "id": "76abc3dd",
   "metadata": {},
   "outputs": [
    {
     "name": "stdout",
     "output_type": "stream",
     "text": [
      "Raja\tShekhar\n",
      "Pavan\tSurya\n"
     ]
    }
   ],
   "source": [
    "print('Raja\\tShekhar')\n",
    "print('Pavan\\tSurya')"
   ]
  },
  {
   "cell_type": "markdown",
   "id": "4e2390a5",
   "metadata": {},
   "source": [
    "6. Write a program for creating a variable with the integer numbers and call \n",
    "those variables in the print method. \n",
    "Output: \n",
    "My First Number is: 10 \n",
    "My Second Number is: 20 \n",
    "My Third Number is: 30  "
   ]
  },
  {
   "cell_type": "code",
   "execution_count": 11,
   "id": "d6d078b5",
   "metadata": {},
   "outputs": [
    {
     "name": "stdout",
     "output_type": "stream",
     "text": [
      "My First Number is: 10 \n",
      "My Second Number is: 20 \n",
      "My Third Number is: 30  \n"
     ]
    }
   ],
   "source": [
    "First_Number = 10\n",
    "Second_Number = 20\n",
    "Third_Number = 30\n",
    "print(f'My First Number is: {First_Number} \\nMy Second Number is: {Second_Number} \\nMy Third Number is: {Third_Number}  ')"
   ]
  },
  {
   "cell_type": "markdown",
   "id": "12f701c2",
   "metadata": {},
   "source": [
    "7. Write a program for creating a variable as given below: \n",
    "Input:  \n",
    "int java = 90; \n",
    "int python = 80; \n",
    "int database = 70; \n",
    "int WebDevelopment = 60; \n",
    "int DotNet = 50;\n",
    "\n",
    "Output: \n",
    "My Java Marks is: 90 \n",
    "My Python Marks is: 90 \n",
    "My Database Marks is: 90 \n",
    "My Web Development is: 60 \n",
    "My DotNet Marks is: 50"
   ]
  },
  {
   "cell_type": "code",
   "execution_count": 12,
   "id": "662298ce",
   "metadata": {},
   "outputs": [
    {
     "name": "stdout",
     "output_type": "stream",
     "text": [
      "My Java Marks is: 90\n",
      "My Python Marks is: 80\n",
      "My Database Marks is: 70\n",
      "My Web Development is: 60\n",
      "My DotNet Marks is: 50\n"
     ]
    }
   ],
   "source": [
    "java = 90\n",
    "python = 80\n",
    "database = 70\n",
    "WebDevelopment = 60\n",
    "DotNet = 50\n",
    "\n",
    "print(f\"My Java Marks is: {java}\")\n",
    "print(f\"My Python Marks is: {python}\")\n",
    "print(f\"My Database Marks is: {database}\")\n",
    "print(f\"My Web Development is: {WebDevelopment}\")\n",
    "print(f\"My DotNet Marks is: {DotNet}\")"
   ]
  },
  {
   "cell_type": "markdown",
   "id": "da78228c",
   "metadata": {},
   "source": [
    "8. Write a program to print the given output? \n",
    "Input: \n",
    "int a = 10, b = 20, c= 30;    \n",
    "Output: \n",
    "a = 10 \n",
    "b =20 \n",
    "c = 30 "
   ]
  },
  {
   "cell_type": "code",
   "execution_count": 16,
   "id": "1f12f094",
   "metadata": {},
   "outputs": [
    {
     "name": "stdout",
     "output_type": "stream",
     "text": [
      "a = 10\n",
      "b = 20\n",
      "c = 30\n"
     ]
    }
   ],
   "source": [
    "a = 10; b = 20; c = 30\n",
    "print(f'a = {a}')\n",
    "print(f'b = {b}')\n",
    "print(f'c = {c}')"
   ]
  },
  {
   "cell_type": "markdown",
   "id": "b44e31d9",
   "metadata": {},
   "source": [
    "9. Write a program to print the given output? \n",
    "Output: \n",
    "++++++ \n",
    "@@@@@@ \n",
    "****** \n",
    "###### "
   ]
  },
  {
   "cell_type": "code",
   "execution_count": 4,
   "id": "c6570a5a",
   "metadata": {},
   "outputs": [
    {
     "name": "stdout",
     "output_type": "stream",
     "text": [
      "++++++\n",
      "@@@@@@\n",
      "******\n",
      "######\n"
     ]
    }
   ],
   "source": [
    "for char in \"+@*#\":\n",
    "    print(char * 6)"
   ]
  },
  {
   "cell_type": "markdown",
   "id": "1f2bf051",
   "metadata": {},
   "source": [
    "10. What is a Programming Language?"
   ]
  },
  {
   "cell_type": "markdown",
   "id": "19904657",
   "metadata": {},
   "source": [
    "A programming language is a set of rules and commands that humans use to tell computers what to do.\n",
    "It's how we communicate with computers to make them perform tasks."
   ]
  },
  {
   "cell_type": "markdown",
   "id": "ba89375c",
   "metadata": {},
   "source": [
    "11. What is a Language in Computers? "
   ]
  },
  {
   "cell_type": "markdown",
   "id": "96e5c94b",
   "metadata": {},
   "source": [
    "A computer language is a special set of rules and commands used to communicate with a computer and give it instructions.\n",
    "The Two Main Types:\n",
    "1. Low-Level Languages:\n",
    "\n",
    "> \"Computer's Native Tongue\": Very close to the 1s and 0s the CPU understands.\n",
    "\n",
    "> Hard for humans to read and write. Example: Assembly Language.\n",
    "\n",
    "2. High-Level Languages:\n",
    "\n",
    "> \"Human-Friendly Languages\": Use words and commands that look more like English (e.g., print, if, while).\n",
    "\n",
    "> Easy for humans to read and write. Examples: Python, Java, JavaScript, C++.\n",
    "\n",
    "A special program called a compiler or interpreter translates these human-friendly instructions into the 1s and 0s the computer needs.\n",
    "\n"
   ]
  },
  {
   "cell_type": "markdown",
   "id": "72b29bb4",
   "metadata": {},
   "source": [
    "12. How many types of communications are there in the computer language?"
   ]
  },
  {
   "cell_type": "markdown",
   "id": "f14c9aa0",
   "metadata": {},
   "source": [
    "In computer language, communication generally happens in **three main types**: human-to-computer, computer-to-computer, and inter-process communication. These types define how information is exchanged within and between systems.\n",
    "\n",
    "* **Human-to-Computer Communication**: Interaction through programming languages, GUIs, or commands.\n",
    "* **Computer-to-Computer Communication**: Exchange of data via networks like LAN, WAN, or the Internet.\n",
    "* **Inter-Process Communication (IPC)**: Data sharing between programs running on the same or different systems.\n",
    "\n",
    "Each type of communication has its own methods and protocols to ensure efficient data transfer and understanding.\n",
    "\n",
    "* **Syntax and Semantics**: Rules in programming languages help humans communicate effectively with computers.\n",
    "* **Protocols**: Standardized methods like TCP/IP ensure reliable machine-to-machine communication.\n",
    "* **Mechanisms**: Pipes, sockets, shared memory, and message queues are used for IPC between processes.\n"
   ]
  },
  {
   "cell_type": "markdown",
   "id": "66735ef6",
   "metadata": {},
   "source": [
    "13. In Python, a variable must be declared before it is assigned a value: "
   ]
  },
  {
   "cell_type": "markdown",
   "id": "95ed0d03",
   "metadata": {},
   "source": [
    "No, In **Python**, a variable does **not** need to be declared before assigning a value. Unlike languages such as C or Java, Python is **dynamically typed**, which means the type and existence of a variable are determined at the time of assignment.\n",
    "\n",
    "* You can simply write `x = 10` without declaring `x` beforehand.\n",
    "* The variable’s type is automatically inferred (here, `int`).\n",
    "* If you try to use a variable before assigning it, Python raises a **NameError**."
   ]
  },
  {
   "cell_type": "markdown",
   "id": "cedbbec6",
   "metadata": {},
   "source": [
    "14. Define two variables, j and k, with values 37 and 52 respectively. \n",
    "a) What is the sum of `j` and `k`? \n",
    "b) Now re-assign `j` and `k` to have the vales 8 and 3 respectively. Re-use \n",
    "your code from the editor to determine their sum and product."
   ]
  },
  {
   "cell_type": "code",
   "execution_count": 7,
   "id": "1da0be31",
   "metadata": {},
   "outputs": [
    {
     "name": "stdout",
     "output_type": "stream",
     "text": [
      "Sum = 89\n",
      "Sum = 11\n",
      "Product = 24\n"
     ]
    }
   ],
   "source": [
    "j = 37; k = 52\n",
    "print(f'Sum = {j+k}')\n",
    "j = 8; k = 3\n",
    "print(f'Sum = {j+k}')\n",
    "print(f'Product = {j*k}')"
   ]
  },
  {
   "cell_type": "markdown",
   "id": "037d17df",
   "metadata": {},
   "source": [
    "15. Create a program to with the given variables and provide the datatypes \n",
    "according to the given values. \n",
    "FirstName = “Raja”; \n",
    "LastName = “Shekhar”; \n",
    "PhoneNumber = “9703971577”; \n",
    "Email = “raj@peramsons.com”; \n",
    "JavaMarks = 70 \n",
    "PythonMarks = 90 \n",
    "Database = 90 \n",
    "WebDevelopment = 90 \n",
    "TotalMarks = 340 \n",
    "Average = 85.00"
   ]
  },
  {
   "cell_type": "code",
   "execution_count": 11,
   "id": "8fd35cf7",
   "metadata": {},
   "outputs": [
    {
     "name": "stdout",
     "output_type": "stream",
     "text": [
      "FirstName: Raja | Datatype: str\n",
      "LastName: Shekhar | Datatype: str\n",
      "PhoneNumber: 9703971577 | Datatype: str\n",
      "Email: raj@peramsons.com | Datatype: str\n",
      "JavaMarks: 70 | Datatype: int\n",
      "PythonMarks: 90 | Datatype: int\n",
      "Database: 90 | Datatype: int\n",
      "WebDevelopment: 90 | Datatype: int\n",
      "TotalMarks: 340 | Datatype: int\n",
      "Average: 85.0 | Datatype: float\n"
     ]
    }
   ],
   "source": [
    "variables = {\n",
    "    \"FirstName\": \"Raja\",\n",
    "    \"LastName\": \"Shekhar\",\n",
    "    \"PhoneNumber\": \"9703971577\",\n",
    "    \"Email\": \"raj@peramsons.com\",\n",
    "    \"JavaMarks\": 70,\n",
    "    \"PythonMarks\": 90,\n",
    "    \"Database\": 90,\n",
    "    \"WebDevelopment\": 90,\n",
    "    \"TotalMarks\": 340,\n",
    "    \"Average\": 85.00\n",
    "}\n",
    "\n",
    "for name, value in variables.items():\n",
    "    print(f\"{name}: {value} | Datatype: {type(value).__name__}\")\n"
   ]
  }
 ],
 "metadata": {
  "kernelspec": {
   "display_name": ".venv (3.13.3)",
   "language": "python",
   "name": "python3"
  },
  "language_info": {
   "codemirror_mode": {
    "name": "ipython",
    "version": 3
   },
   "file_extension": ".py",
   "mimetype": "text/x-python",
   "name": "python",
   "nbconvert_exporter": "python",
   "pygments_lexer": "ipython3",
   "version": "3.13.3"
  }
 },
 "nbformat": 4,
 "nbformat_minor": 5
}
