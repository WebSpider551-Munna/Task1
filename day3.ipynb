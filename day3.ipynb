{
 "cells": [
  {
   "cell_type": "markdown",
   "id": "ffb60bba-51d1-4527-9f1f-401fce54126b",
   "metadata": {},
   "source": [
    "Home Work II (Day 3)\n",
    "Relational and Assignment operators "
   ]
  },
  {
   "cell_type": "code",
   "execution_count": 3,
   "id": "d0a01e67-3941-4311-a31b-57fa9e8907a2",
   "metadata": {},
   "outputs": [
    {
     "name": "stdout",
     "output_type": "stream",
     "text": [
      "512\n"
     ]
    }
   ],
   "source": [
    "# 1. What is the output of  \n",
    "# print (2 ** 3 ** 2)\n",
    "\n",
    "print(2**3**2)"
   ]
  },
  {
   "cell_type": "code",
   "execution_count": 4,
   "id": "1850ab9c-535a-4b6f-87bd-62114a1fa5f2",
   "metadata": {},
   "outputs": [
    {
     "name": "stdout",
     "output_type": "stream",
     "text": [
      "216\n"
     ]
    }
   ],
   "source": [
    "# 2. What is the output of  \n",
    "# print (2 * 3 ** 3 * 4) \n",
    "\n",
    "print (2 * 3 ** 3 * 4)"
   ]
  },
  {
   "cell_type": "code",
   "execution_count": 5,
   "id": "60830e20-3a01-4afd-8554-ccff5400d349",
   "metadata": {},
   "outputs": [
    {
     "name": "stdout",
     "output_type": "stream",
     "text": [
      "2\n"
     ]
    }
   ],
   "source": [
    "# 3. What is the output of  \n",
    "# print (10 - 4 * 2)\n",
    "\n",
    "print (10 - 4 * 2)"
   ]
  },
  {
   "cell_type": "code",
   "execution_count": 6,
   "id": "4792afbb-5f8c-46bf-8943-fa4f793b5d54",
   "metadata": {},
   "outputs": [
    {
     "name": "stdout",
     "output_type": "stream",
     "text": [
      "-5\n"
     ]
    }
   ],
   "source": [
    "# 4. What is the output of the expression  \n",
    "# print (-18 // 4)\n",
    "\n",
    "print (-18 // 4)"
   ]
  },
  {
   "cell_type": "code",
   "execution_count": 34,
   "id": "99c38133-70ab-48d8-aa2b-549b88e5bfaa",
   "metadata": {},
   "outputs": [
    {
     "name": "stdout",
     "output_type": "stream",
     "text": [
      "0\n"
     ]
    }
   ],
   "source": [
    "# 5. What is the output of  \n",
    "# print (2%6) \n",
    "\n",
    "print( 50 % 25) "
   ]
  },
  {
   "cell_type": "code",
   "execution_count": 38,
   "id": "21ff0ec3-c5f8-4c31-a8ff-f1d2bb8b0e54",
   "metadata": {},
   "outputs": [
    {
     "name": "stdout",
     "output_type": "stream",
     "text": [
      "0\n"
     ]
    }
   ],
   "source": [
    "# 6. What is the output of the following code \n",
    "# x = 100  \n",
    "# y = 50  \n",
    "# print(x and y) \n",
    "\n",
    "x = 100  \n",
    "y = 50  \n",
    "print(x and y)"
   ]
  },
  {
   "cell_type": "code",
   "execution_count": 24,
   "id": "83e6742c-4e31-46b7-b5e4-3604eb2e650d",
   "metadata": {},
   "outputs": [
    {
     "name": "stdout",
     "output_type": "stream",
     "text": [
      "9.0\n"
     ]
    }
   ],
   "source": [
    "# 7. What is the value of the following Python Expression  \n",
    "# print(36 / 4) \n",
    "\n",
    "print(36 / 4) "
   ]
  },
  {
   "cell_type": "code",
   "execution_count": 25,
   "id": "c5b039c1-aa8e-4b96-9d2b-80c7e1b9b797",
   "metadata": {},
   "outputs": [
    {
     "ename": "TypeError",
     "evalue": "unsupported operand type(s) for +: 'int' and 'str'",
     "output_type": "error",
     "traceback": [
      "\u001b[31m---------------------------------------------------------------------------\u001b[39m",
      "\u001b[31mTypeError\u001b[39m                                 Traceback (most recent call last)",
      "\u001b[36mCell\u001b[39m\u001b[36m \u001b[39m\u001b[32mIn[25]\u001b[39m\u001b[32m, line 10\u001b[39m\n\u001b[32m      8\u001b[39m var2 = \u001b[32m2\u001b[39m  \n\u001b[32m      9\u001b[39m var3 = \u001b[33m\"\u001b[39m\u001b[33m3\u001b[39m\u001b[33m\"\u001b[39m  \n\u001b[32m---> \u001b[39m\u001b[32m10\u001b[39m \u001b[38;5;28mprint\u001b[39m (\u001b[43mvar1\u001b[49m\u001b[43m \u001b[49m\u001b[43m+\u001b[49m\u001b[43m \u001b[49m\u001b[43mvar2\u001b[49m\u001b[43m \u001b[49m\u001b[43m+\u001b[49m\u001b[43m \u001b[49m\u001b[43mvar3\u001b[49m)\n",
      "\u001b[31mTypeError\u001b[39m: unsupported operand type(s) for +: 'int' and 'str'"
     ]
    }
   ],
   "source": [
    "# 8. What is the output of the following code? \n",
    "# var1 = 1  \n",
    "# var2 = 2  \n",
    "# var3 = \"3\"  \n",
    "# print (var1 + var2 + var3)\n",
    "\n",
    "var1 = 1  \n",
    "var2 = 2  \n",
    "var3 = \"3\"  \n",
    "print (var1 + var2 + var3)\n",
    "\n"
   ]
  },
  {
   "cell_type": "code",
   "execution_count": 39,
   "id": "6c47a7cb-0dd3-4a9c-a83f-0d1fc12a795d",
   "metadata": {},
   "outputs": [
    {
     "name": "stdout",
     "output_type": "stream",
     "text": [
      "10 20 30\n"
     ]
    }
   ],
   "source": [
    "# 9. What is the output of the following code? \n",
    "# p, q, r = 10, 20 ,30  \n",
    "# print(p, q, r) \n",
    "\n",
    "p, q, r = 10, 20 ,30\n",
    "print(p, q, r) "
   ]
  },
  {
   "cell_type": "code",
   "execution_count": 40,
   "id": "189cf415-6c6f-4157-a460-77cea8880a15",
   "metadata": {},
   "outputs": [
    {
     "name": "stdout",
     "output_type": "stream",
     "text": [
      "25\n",
      "125\n"
     ]
    }
   ],
   "source": [
    "# 10. What is the output of the following code? \n",
    "# valueOne = 5 ** 2  \n",
    "# valueTwo = 5 ** 3  \n",
    "# print(valueOne) \n",
    "# print(valueTwo) \n",
    "\n",
    "valueOne = 5 ** 2  \n",
    "valueTwo = 5 ** 3  \n",
    "print(valueOne) \n",
    "print(valueTwo)\n"
   ]
  },
  {
   "cell_type": "code",
   "execution_count": 41,
   "id": "f242f2d1-6f2c-4ba8-a807-17bc56445f52",
   "metadata": {},
   "outputs": [
    {
     "name": "stdout",
     "output_type": "stream",
     "text": [
      "JamesJamesJamesJamesJamesJames\n"
     ]
    }
   ],
   "source": [
    "# 11. What is the output of the following code? \n",
    "# var = \"James\" * 2 * 3  \n",
    "# print(var) \n",
    "\n",
    "var = \"James\" * 2 * 3  \n",
    "print(var) "
   ]
  },
  {
   "cell_type": "code",
   "execution_count": 42,
   "id": "5815454a-1687-4363-a1d8-3a66c8579f16",
   "metadata": {},
   "outputs": [
    {
     "name": "stdout",
     "output_type": "stream",
     "text": [
      "182.0\n"
     ]
    }
   ],
   "source": [
    "# 12. What is the output of the following \n",
    "# x = 36 / 4 * (3 + 2) * 4 + 2  \n",
    "# print(x) \n",
    "\n",
    "x = 36 / 4 * (3 + 2) * 4 + 2  \n",
    "print(x) "
   ]
  },
  {
   "cell_type": "code",
   "execution_count": 44,
   "id": "2057f3a3-d2ef-4303-bbb8-3dda3f739ef1",
   "metadata": {},
   "outputs": [
    {
     "name": "stdout",
     "output_type": "stream",
     "text": [
      "int\n"
     ]
    }
   ],
   "source": [
    "# 13. What is the data type of  \n",
    "# print(type (10)) \n",
    "\n",
    "print(type (10).__name__) "
   ]
  },
  {
   "cell_type": "code",
   "execution_count": 49,
   "id": "05451f65-ffd3-4483-83d8-39150e6f9801",
   "metadata": {},
   "outputs": [
    {
     "name": "stdout",
     "output_type": "stream",
     "text": [
      "Int Variable = 100\n",
      "Float_Variable = 50.2\n",
      "String_Variable = Hello\n"
     ]
    }
   ],
   "source": [
    "# 14. Creating an int variable, float variable, string variable and assign the values to the above three variable names. \n",
    "\n",
    "int_var = 100\n",
    "float_var = 50.2\n",
    "string_var = \"Hello\"\n",
    "print(f'Int Variable = {int_var}\\nFloat_Variable = {float_var}\\nString_Variable = {string_var}')"
   ]
  },
  {
   "cell_type": "code",
   "execution_count": null,
   "id": "1bc5bef9-6d6c-4d2a-9d97-8aa33f328318",
   "metadata": {},
   "outputs": [
    {
     "name": "stdout",
     "output_type": "stream",
     "text": [
      "Roll number is: 22\n",
      "<class 'int'>\n"
     ]
    }
   ],
   "source": [
    "# 15.  Create Integer number \n",
    "# Roll number is: 33  \n",
    "# <class 'int'>  \n",
    "# 25  \n",
    "# <class 'int'>\n",
    "\n",
    "rn = 33\n",
    "print(f'Roll number is: {rn}')\n",
    "print(type(rn))\n"
   ]
  },
  {
   "cell_type": "code",
   "execution_count": null,
   "id": "e996dd43-5c37-495d-a2c8-c863e3a7e76b",
   "metadata": {},
   "outputs": [],
   "source": []
  }
 ],
 "metadata": {
  "kernelspec": {
   "display_name": ".venv (3.13.3)",
   "language": "python",
   "name": "python3"
  },
  "language_info": {
   "codemirror_mode": {
    "name": "ipython",
    "version": 3
   },
   "file_extension": ".py",
   "mimetype": "text/x-python",
   "name": "python",
   "nbconvert_exporter": "python",
   "pygments_lexer": "ipython3",
   "version": "3.13.3"
  }
 },
 "nbformat": 4,
 "nbformat_minor": 5
}
